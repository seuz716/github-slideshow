{
  "nbformat": 4,
  "nbformat_minor": 0,
  "metadata": {
    "colab": {
      "name": "Untitled1.ipynb",
      "provenance": [],
      "toc_visible": true,
      "authorship_tag": "ABX9TyNKCxY3pubJb0hq5kU8bo+L",
      "include_colab_link": true
    },
    "kernelspec": {
      "name": "python3",
      "display_name": "Python 3"
    },
    "language_info": {
      "name": "python"
    }
  },
  "cells": [
    {
      "cell_type": "markdown",
      "metadata": {
        "id": "view-in-github",
        "colab_type": "text"
      },
      "source": [
        "<a href=\"https://colab.research.google.com/github/seuz716/github-slideshow/blob/master/analisis%20de%20datos1.ipynb\" target=\"_parent\"><img src=\"https://colab.research.google.com/assets/colab-badge.svg\" alt=\"Open In Colab\"/></a>"
      ]
    },
    {
      "cell_type": "code",
      "metadata": {
        "id": "-EITQ_zWM6LL"
      },
      "source": [
        "import pandas as pd\n",
        "import matplotlib.pyplot as plt\n",
        "import numpy as np\n"
      ],
      "execution_count": 1,
      "outputs": []
    },
    {
      "cell_type": "code",
      "metadata": {
        "id": "-lDONWIKPoQ9"
      },
      "source": [
        "data = pd.read_csv('/content/Plantilla Proveedores_V5.csv', header= None)"
      ],
      "execution_count": 2,
      "outputs": []
    },
    {
      "cell_type": "code",
      "metadata": {
        "id": "TlcjJx1dP1MC"
      },
      "source": [
        "data.columns = ['code','name','actividad','regime','ciudad']"
      ],
      "execution_count": 3,
      "outputs": []
    },
    {
      "cell_type": "code",
      "metadata": {
        "colab": {
          "base_uri": "https://localhost:8080/",
          "height": 359
        },
        "id": "uU0lAcuLRNAM",
        "outputId": "3461752f-a919-484e-dbc0-730c87e3fc7b"
      },
      "source": [
        "data.head(10)"
      ],
      "execution_count": 8,
      "outputs": [
        {
          "output_type": "execute_result",
          "data": {
            "text/html": [
              "<div>\n",
              "<style scoped>\n",
              "    .dataframe tbody tr th:only-of-type {\n",
              "        vertical-align: middle;\n",
              "    }\n",
              "\n",
              "    .dataframe tbody tr th {\n",
              "        vertical-align: top;\n",
              "    }\n",
              "\n",
              "    .dataframe thead th {\n",
              "        text-align: right;\n",
              "    }\n",
              "</style>\n",
              "<table border=\"1\" class=\"dataframe\">\n",
              "  <thead>\n",
              "    <tr style=\"text-align: right;\">\n",
              "      <th></th>\n",
              "      <th>code</th>\n",
              "      <th>name</th>\n",
              "      <th>actividad</th>\n",
              "      <th>regime</th>\n",
              "      <th>ciudad</th>\n",
              "    </tr>\n",
              "  </thead>\n",
              "  <tbody>\n",
              "    <tr>\n",
              "      <th>0</th>\n",
              "      <td>1067683</td>\n",
              "      <td>TONYS PEREZ PEREZ</td>\n",
              "      <td>0</td>\n",
              "      <td>0</td>\n",
              "      <td>MONTERIA</td>\n",
              "    </tr>\n",
              "    <tr>\n",
              "      <th>1</th>\n",
              "      <td>1177666</td>\n",
              "      <td>JUAN CARLOS TORRES PONGUTA</td>\n",
              "      <td>7411</td>\n",
              "      <td>SIMPLIFICADO</td>\n",
              "      <td>SOGAMOSO</td>\n",
              "    </tr>\n",
              "    <tr>\n",
              "      <th>2</th>\n",
              "      <td>2913770</td>\n",
              "      <td>ARTURO CALLE</td>\n",
              "      <td>5132</td>\n",
              "      <td>GRANDES CONTRIBUYENTES</td>\n",
              "      <td>CALI</td>\n",
              "    </tr>\n",
              "    <tr>\n",
              "      <th>3</th>\n",
              "      <td>3352817</td>\n",
              "      <td>ELKIN MARIO MAYA ECHAVARRIA</td>\n",
              "      <td>7411</td>\n",
              "      <td>SIMPLIFICADO</td>\n",
              "      <td>MEDELLIN</td>\n",
              "    </tr>\n",
              "    <tr>\n",
              "      <th>4</th>\n",
              "      <td>3746303</td>\n",
              "      <td>JOSE LUIS BAUTE ARENAS</td>\n",
              "      <td>7411</td>\n",
              "      <td>REGIMEN COMUN</td>\n",
              "      <td>BARRANQUILLA</td>\n",
              "    </tr>\n",
              "    <tr>\n",
              "      <th>5</th>\n",
              "      <td>4261175</td>\n",
              "      <td>RAFAEL GUILLERMO SANDOVAL</td>\n",
              "      <td>5241</td>\n",
              "      <td>SIMPLIFICADO</td>\n",
              "      <td>SOGAMOSO</td>\n",
              "    </tr>\n",
              "    <tr>\n",
              "      <th>6</th>\n",
              "      <td>4266846</td>\n",
              "      <td>LUIS ENRIQUE OLIVEROS TOLOSA</td>\n",
              "      <td>6031</td>\n",
              "      <td>SIMPLIFICADO</td>\n",
              "      <td>BOGOTA</td>\n",
              "    </tr>\n",
              "    <tr>\n",
              "      <th>7</th>\n",
              "      <td>4377818</td>\n",
              "      <td>LUIS FELIPE DAVILA SAAVEDRA</td>\n",
              "      <td>7430</td>\n",
              "      <td>SIMPLIFICADO</td>\n",
              "      <td>ARMENIA</td>\n",
              "    </tr>\n",
              "    <tr>\n",
              "      <th>8</th>\n",
              "      <td>4452871</td>\n",
              "      <td>GERMAN CIFUENTES GOMEZ</td>\n",
              "      <td>5522</td>\n",
              "      <td>0</td>\n",
              "      <td>CALI</td>\n",
              "    </tr>\n",
              "    <tr>\n",
              "      <th>9</th>\n",
              "      <td>6292457</td>\n",
              "      <td>ANTONIO MORA LENIS</td>\n",
              "      <td>0</td>\n",
              "      <td>0</td>\n",
              "      <td>PALMIRA</td>\n",
              "    </tr>\n",
              "  </tbody>\n",
              "</table>\n",
              "</div>"
            ],
            "text/plain": [
              "      code                          name  ...                  regime        ciudad\n",
              "0  1067683             TONYS PEREZ PEREZ  ...                       0      MONTERIA\n",
              "1  1177666    JUAN CARLOS TORRES PONGUTA  ...            SIMPLIFICADO      SOGAMOSO\n",
              "2  2913770                  ARTURO CALLE  ...  GRANDES CONTRIBUYENTES          CALI\n",
              "3  3352817   ELKIN MARIO MAYA ECHAVARRIA  ...            SIMPLIFICADO      MEDELLIN\n",
              "4  3746303        JOSE LUIS BAUTE ARENAS  ...           REGIMEN COMUN  BARRANQUILLA\n",
              "5  4261175     RAFAEL GUILLERMO SANDOVAL  ...            SIMPLIFICADO      SOGAMOSO\n",
              "6  4266846  LUIS ENRIQUE OLIVEROS TOLOSA  ...            SIMPLIFICADO        BOGOTA\n",
              "7  4377818   LUIS FELIPE DAVILA SAAVEDRA  ...            SIMPLIFICADO      ARMENIA \n",
              "8  4452871        GERMAN CIFUENTES GOMEZ  ...                       0          CALI\n",
              "9  6292457            ANTONIO MORA LENIS  ...                       0       PALMIRA\n",
              "\n",
              "[10 rows x 5 columns]"
            ]
          },
          "metadata": {
            "tags": []
          },
          "execution_count": 8
        }
      ]
    },
    {
      "cell_type": "code",
      "metadata": {
        "colab": {
          "base_uri": "https://localhost:8080/"
        },
        "id": "9bBJxakNRtew",
        "outputId": "0dc688a6-966d-4f56-9ca3-63ddc5a5f0d9"
      },
      "source": [
        "data.actividad.unique()"
      ],
      "execution_count": 9,
      "outputs": [
        {
          "output_type": "execute_result",
          "data": {
            "text/plain": [
              "array([   0, 7411, 5132, 5241, 6031, 7430, 5522, 5121, 2429, 7010,   10,\n",
              "       8519, 2212, 5237, 7499, 4530, 5239, 4521, 4549, 4542, 8011, 7414,\n",
              "       5229, 9309, 5243, 9214, 5190, 9249, 5511, 7492, 6423, 5234, 9213,\n",
              "       5521, 1582, 5233, 5529, 5144, 7421, 3611, 7240, 5211, 5512, 5139,\n",
              "       9241, 5249, 2899, 2220, 3230, 7130, 6041, 9311, 7020, 1551, 5123,\n",
              "       5269, 1810, 8090, 7412, 5525, 8512, 7129, 5224,   90, 5219, 9500,\n",
              "       5111, 5210, 1581, 4100, 8030, 1730, 6042, 5530, 1589, 6021, 5272,\n",
              "       8515, 6412, 8521,  119, 7494, 9199, 7111, 5169, 6599, 6721, 5163,\n",
              "       9111, 7426, 2232, 5119, 6421, 7491, 7220, 6714, 9211, 3699, 7493,\n",
              "       1521, 5125, 6425, 2240, 2231, 7413, 6429, 5151, 5500, 5051, 3420,\n",
              "       6602, 7290, 5164, 5170,  501, 7123, 2211, 6719, 7210, 1931, 6422,\n",
              "       7200, 6044, 6601, 5011, 6340, 3000, 7250, 6512, 8532, 2100, 2109,\n",
              "       6593, 7530, 1594, 2101, 5523, 6592, 6411, 3613,  130, 6426, 8514,\n",
              "       5539, 6711, 9219, 7230, 1749, 5134, 6594, 5153, 2007, 5244, 9000])"
            ]
          },
          "metadata": {
            "tags": []
          },
          "execution_count": 9
        }
      ]
    },
    {
      "cell_type": "code",
      "metadata": {
        "id": "5vvW7nVjSG4g"
      },
      "source": [
        ""
      ],
      "execution_count": 12,
      "outputs": []
    }
  ]
}